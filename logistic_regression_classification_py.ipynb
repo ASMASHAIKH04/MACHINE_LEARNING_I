{
  "nbformat": 4,
  "nbformat_minor": 0,
  "metadata": {
    "colab": {
      "provenance": []
    },
    "kernelspec": {
      "name": "python3",
      "display_name": "Python 3"
    },
    "language_info": {
      "name": "python"
    }
  },
  "cells": [
    {
      "cell_type": "markdown",
      "source": [
        "# Making classification dataset"
      ],
      "metadata": {
        "id": "-pAR4wwNgwy9"
      }
    },
    {
      "cell_type": "code",
      "execution_count": null,
      "metadata": {
        "id": "zNktbyFRMWwD"
      },
      "outputs": [],
      "source": [
        "from sklearn.datasets import make_classification\n",
        "X,y = make_classification(n_features = 4,n_classes=2)\n",
        "from sklearn.model_selection import train_test_split\n",
        "X_train,X_test,y_train,y_test = train_test_split(X,y,test_size=0.1)"
      ]
    },
    {
      "cell_type": "markdown",
      "source": [
        "# Standardizing Formula"
      ],
      "metadata": {
        "id": "g7SWPTVtg4MO"
      }
    },
    {
      "cell_type": "code",
      "source": [
        "import numpy as np\n",
        "\n",
        "def standardize(X_tr):\n",
        "    for i in range(X_tr.shape[1]):\n",
        "        X_tr[:,i] = (X_tr[:,i] - np.mean(X_tr[:,i]))/np.std(X_tr[:,i])\n",
        "    return X_tr"
      ],
      "metadata": {
        "id": "XuNvZ-g1MnZB"
      },
      "execution_count": null,
      "outputs": []
    },
    {
      "cell_type": "code",
      "source": [
        "X_train = standardize(X_train)\n",
        "X_test  = standardize(X_test)"
      ],
      "metadata": {
        "id": "fTuoAzHvMnss"
      },
      "execution_count": null,
      "outputs": []
    },
    {
      "cell_type": "markdown",
      "source": [
        "# Logisitc Regression from scratch"
      ],
      "metadata": {
        "id": "6xWTFcDzg7HN"
      }
    },
    {
      "cell_type": "code",
      "source": [
        "def sigmoid(z):\n",
        "  return 1/(1+np.exp(-z))\n",
        "\n",
        "def cost_function(X,y,theta):\n",
        "  n = len(y)\n",
        "  h = sigmoid(X.dot(theta))\n",
        "  return (-1/n)*np.sum(y*np.log(h) + (1-y)*np.log(1-h))\n",
        "\n",
        "def gradient_descent(X, y, theta, learning_rate, iterations):\n",
        "  m = len(y)\n",
        "\n",
        "  for i in range(iterations):\n",
        "    h = sigmoid(X.dot(theta))\n",
        "    theta -= learning_rate * (1/m) * X.T.dot(h - y)\n",
        "\n",
        "  return theta\n",
        "\n",
        "def predict(X, theta):\n",
        "\n",
        "  return np.round(sigmoid(X.dot(theta)))"
      ],
      "metadata": {
        "id": "p955KVgAMoDd"
      },
      "execution_count": null,
      "outputs": []
    },
    {
      "cell_type": "code",
      "source": [
        "theta = np.zeros(X.shape[1])\n",
        "lr = 0.001\n",
        "iterations = 930\n",
        "theta = gradient_descent(X_train , y_train , theta , lr , iterations)\n",
        "prediction = predict(X_test , theta)"
      ],
      "metadata": {
        "id": "zucpYI7cMoWB"
      },
      "execution_count": null,
      "outputs": []
    },
    {
      "cell_type": "markdown",
      "source": [
        "# F1 score from scratch"
      ],
      "metadata": {
        "id": "WJ3_uXdbg-ev"
      }
    },
    {
      "cell_type": "code",
      "source": [
        "def F1_score(pred , y_test):\n",
        "  TP = 0\n",
        "  TN = 0\n",
        "  FP = 0\n",
        "  FN = 0\n",
        "\n",
        "  for x,y in zip(pred , y_test):\n",
        "    if y == 1:\n",
        "      if x==y:\n",
        "        TP += 1\n",
        "      else:\n",
        "        FP += 1\n",
        "    else:\n",
        "      if x == y:\n",
        "        TN += 1\n",
        "      else:\n",
        "        FN += 1\n",
        "  precision = TP/(TP + FP)\n",
        "  recall = TP/(TP + FN)\n",
        "\n",
        "  return (2*precision*recall/(precision + recall))\n"
      ],
      "metadata": {
        "id": "DtMwBrL8Mos3"
      },
      "execution_count": null,
      "outputs": []
    },
    {
      "cell_type": "code",
      "source": [
        "print(f\"F1 Score is {F1_score(prediction , y_test)}\")"
      ],
      "metadata": {
        "colab": {
          "base_uri": "https://localhost:8080/"
        },
        "id": "4KRT-2NnWV1w",
        "outputId": "b77b8da8-0d79-48ec-a333-735f84790cb5"
      },
      "execution_count": null,
      "outputs": [
        {
          "output_type": "stream",
          "name": "stdout",
          "text": [
            "F1 Score is 1.0\n"
          ]
        }
      ]
    },
    {
      "cell_type": "markdown",
      "source": [
        "# Logistic Regression using scikit learn"
      ],
      "metadata": {
        "id": "Y-wV114FhAje"
      }
    },
    {
      "cell_type": "code",
      "source": [
        "from sklearn.linear_model import LogisticRegression\n",
        "from sklearn.metrics import f1_score\n",
        "\n",
        "log = LogisticRegression()\n",
        "log.fit(X_train , y_train)\n",
        "y_pred = log.predict(X_test)\n",
        "\n",
        "print(f\"F1 score is {f1_score(y_pred , y_test)}\")"
      ],
      "metadata": {
        "colab": {
          "base_uri": "https://localhost:8080/"
        },
        "id": "KXDVajeMYjGJ",
        "outputId": "746170bb-0ef6-43bf-bf5d-d2800d6f84fa"
      },
      "execution_count": null,
      "outputs": [
        {
          "output_type": "stream",
          "name": "stdout",
          "text": [
            "F1 score is 1.0\n"
          ]
        }
      ]
    },
    {
      "cell_type": "markdown",
      "source": [
        "# Logistic Regression on Iris dataset"
      ],
      "metadata": {
        "id": "IRq2y_tPhI0r"
      }
    },
    {
      "cell_type": "code",
      "source": [
        "import pandas as pd\n",
        "\n",
        "df1 = pd.read_csv(\"/content/Iris.csv\")\n",
        "\n",
        "X = df1.iloc[:,:-1]\n",
        "y = df1.iloc[:,-1]"
      ],
      "metadata": {
        "id": "hPswOk2Qad-o"
      },
      "execution_count": null,
      "outputs": []
    },
    {
      "cell_type": "code",
      "source": [
        "from sklearn.preprocessing import StandardScaler\n",
        "\n",
        "X_train , X_test , y_train, y_test = train_test_split(X,y,test_size = 0.3,random_state = 42)\n",
        "\n",
        "sc = StandardScaler()\n",
        "\n",
        "X_train = sc.fit_transform(X_train)\n",
        "X_test = sc.transform(X_test)"
      ],
      "metadata": {
        "id": "kSXoywJpbVxU"
      },
      "execution_count": null,
      "outputs": []
    },
    {
      "cell_type": "markdown",
      "source": [
        "# Accuracy of logistic Regression on Iris dataset"
      ],
      "metadata": {
        "id": "IXHB0bh1hN3o"
      }
    },
    {
      "cell_type": "code",
      "source": [
        "from sklearn.metrics import accuracy_score\n",
        "\n",
        "log1 = LogisticRegression(multi_class = \"auto\" , random_state = 42)\n",
        "log1.fit(X_train , y_train)\n",
        "y_pred = log1.predict(X_test)\n",
        "print(f\"Accuracy is {accuracy_score(y_pred , y_test)}\")"
      ],
      "metadata": {
        "colab": {
          "base_uri": "https://localhost:8080/"
        },
        "id": "QhN_OEtEbWCQ",
        "outputId": "48e0ec15-a4f7-45f0-a729-446d675df9c5"
      },
      "execution_count": null,
      "outputs": [
        {
          "output_type": "stream",
          "name": "stdout",
          "text": [
            "Accuracy is 1.0\n"
          ]
        }
      ]
    },
    {
      "cell_type": "code",
      "source": [
        "weights , params = [] , []\n",
        "for c  in np.arange(0,5):\n",
        "  params.append(10**c)\n",
        "  lr = LogisticRegression(C = 10**c , multi_class = \"auto\" , random_state = 42)\n",
        "  lr.fit(X_train , y_train)\n",
        "  weights.append(lr.coef_[1])\n",
        "\n",
        "weights = np.array(weights)\n"
      ],
      "metadata": {
        "id": "CymTZjPEbWFm"
      },
      "execution_count": null,
      "outputs": []
    },
    {
      "cell_type": "markdown",
      "source": [
        "# Checkinng for optimal value of C"
      ],
      "metadata": {
        "id": "ii2U0dh5hWu4"
      }
    },
    {
      "cell_type": "code",
      "source": [
        "import matplotlib.pyplot as plt\n",
        "\n",
        "plt.plot(params , weights[:,0] , color= \"blue\" , marker = \"x\" , label = \"petal_length\")\n",
        "plt.plot(params , weights[:,1] , color= \"green\" , marker = \"o\" , label = \"petal_width\")\n",
        "plt.xlabel(\"weight coefficients\")\n",
        "plt.ylabel(\"C\")\n",
        "plt.legend(loc = \"right\")\n",
        "plt.xscale(\"log\")\n",
        "plt.show()"
      ],
      "metadata": {
        "colab": {
          "base_uri": "https://localhost:8080/",
          "height": 454
        },
        "id": "10sU6CV8bWIW",
        "outputId": "c132ae4e-53fa-4601-a525-f8332adb2c54"
      },
      "execution_count": null,
      "outputs": [
        {
          "output_type": "display_data",
          "data": {
            "text/plain": [
              "<Figure size 640x480 with 1 Axes>"
            ],
            "image/png": "[encoded data removed]"
          },
          "metadata": {}
        }
      ]
    },
    {
      "cell_type": "markdown",
      "source": [
        "# Plotting boundary of class label for Iris dataset"
      ],
      "metadata": {
        "id": "B-1jnvSrht9q"
      }
    },
    {
      "cell_type": "code",
      "source": [
        "from sklearn import datasets\n",
        "import numpy as np\n",
        "iris = datasets.load_iris()\n",
        "X = iris.data[:, [2, 3]]\n",
        "y = iris.target\n",
        "\n",
        "from sklearn.model_selection import train_test_split\n",
        "X_train, X_test, y_train, y_test = train_test_split(X, y, test_size=0.3, random_state=0)\n",
        "\n",
        "from sklearn.preprocessing import StandardScaler\n",
        "sc = StandardScaler()\n",
        "sc.fit(X_train)\n",
        "X_train_std = sc.transform(X_train)\n",
        "X_test_std = sc.transform(X_test)\n",
        "\n",
        "from sklearn.linear_model import LogisticRegression\n",
        "lr = LogisticRegression(C=1000.0, random_state=0)\n",
        "lr.fit(X_train_std, y_train)\n",
        "# Decision region drawing\n",
        "from matplotlib.colors import ListedColormap\n",
        "import matplotlib.pyplot as plt\n",
        "\n",
        "def plot_decision_regions(X, y, classifier, test_idx=None, resolution=0.02):\n",
        "   # setup marker generator and color map\n",
        "   markers = ('s', 'x', 'o', '^', 'v')\n",
        "   colors = ('red', 'blue', 'lightgreen', 'gray', 'cyan')\n",
        "   cmap = ListedColormap(colors[:len(np.unique(y))])\n",
        "\n",
        "   # plot the decision surface\n",
        "   x1_min, x1_max = X[:, 0].min() - 1, X[:, 0].max() + 1\n",
        "   x2_min, x2_max = X[:, 1].min() - 1, X[:, 1].max() + 1\n",
        "   xx1, xx2 = np.meshgrid(np.arange(x1_min, x1_max, resolution),\n",
        "   np.arange(x2_min, x2_max, resolution))\n",
        "   Z = classifier.predict(np.array([xx1.ravel(), xx2.ravel()]).T)\n",
        "   Z = Z.reshape(xx1.shape)\n",
        "   plt.contourf(xx1, xx2, Z, alpha=0.4, cmap=cmap)\n",
        "   plt.xlim(xx1.min(), xx1.max())\n",
        "   plt.ylim(xx2.min(), xx2.max())\n",
        "\n",
        "   # plot all samples\n",
        "   X_test, y_test = X[test_idx, :], y[test_idx]\n",
        "   for idx, cl in enumerate(np.unique(y)):\n",
        "      plt.scatter(x=X[y == cl, 0], y=X[y == cl, 1],\n",
        "               alpha=0.8, c=cmap(idx),\n",
        "               marker=markers[idx], label=cl)\n",
        "   # highlight test samples\n",
        "   if test_idx:\n",
        "      X_test, y_test = X[test_idx, :], y[test_idx]\n",
        "      plt.scatter(X_test[:, 0], X_test[:, 1], c='Yellow',\n",
        "               alpha=1.0, linewidth=1, marker='o',\n",
        "               s=55, label='test set')\n",
        "\n",
        "X_combined_std = np.vstack((X_train_std, X_test_std))\n",
        "y_combined = np.hstack((y_train, y_test))\n",
        "\n",
        "plot_decision_regions(X_combined_std,\n",
        "                      y_combined, classifier=lr,\n",
        "                      test_idx=range(105,150))\n",
        "\n",
        "plt.xlabel('petal length [standardized]')\n",
        "plt.ylabel('petal width [standardized]')\n",
        "plt.legend(loc='upper left')\n",
        "plt.show()"
      ],
      "metadata": {
        "colab": {
          "base_uri": "https://localhost:8080/",
          "height": 504
        },
        "id": "E5GmclDmbWLe",
        "outputId": "197c839e-3f0d-46da-e4e4-49b14c36e987"
      },
      "execution_count": null,
      "outputs": [
        {
          "output_type": "stream",
          "name": "stderr",
          "text": [
            "<ipython-input-261-0857d92b8d11>:43: UserWarning: *c* argument looks like a single numeric RGB or RGBA sequence, which should be avoided as value-mapping will have precedence in case its length matches with *x* & *y*.  Please use the *color* keyword-argument or provide a 2D array with a single row if you intend to specify the same RGB or RGBA value for all points.\n",
            "  plt.scatter(x=X[y == cl, 0], y=X[y == cl, 1],\n"
          ]
        },
        {
          "output_type": "display_data",
          "data": {
            "text/plain": [
              "<Figure size 640x480 with 1 Axes>"
            ],
            "image/png": "[encoded data removed]"
          },
          "metadata": {}
        }
      ]
    },
    {
      "cell_type": "markdown",
      "source": [
        "# Conclusion : Implementaion of logistic regression from scratch  , making dataset for classification using make_plots and implementing logistic regression using sklearn library of python"
      ],
      "metadata": {
        "id": "NKkSz0jSLtXr"
      }
    }
  ]
}